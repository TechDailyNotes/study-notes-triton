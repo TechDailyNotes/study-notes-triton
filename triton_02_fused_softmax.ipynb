{
  "nbformat": 4,
  "nbformat_minor": 0,
  "metadata": {
    "colab": {
      "provenance": [],
      "machine_shape": "hm",
      "gpuType": "A100",
      "authorship_tag": "ABX9TyOdhytvNsMHH/MrpEZ2Fj8J",
      "include_colab_link": true
    },
    "kernelspec": {
      "name": "python3",
      "display_name": "Python 3"
    },
    "language_info": {
      "name": "python"
    },
    "accelerator": "GPU"
  },
  "cells": [
    {
      "cell_type": "markdown",
      "metadata": {
        "id": "view-in-github",
        "colab_type": "text"
      },
      "source": [
        "<a href=\"https://colab.research.google.com/github/TechDailyNotes/study-notes-triton/blob/main/triton_02_fused_softmax.ipynb\" target=\"_parent\"><img src=\"https://colab.research.google.com/assets/colab-badge.svg\" alt=\"Open In Colab\"/></a>"
      ]
    },
    {
      "cell_type": "markdown",
      "source": [
        "# Fused Softmax"
      ],
      "metadata": {
        "id": "zSwLl_-_dOiL"
      }
    },
    {
      "cell_type": "markdown",
      "source": [
        "## Motivations"
      ],
      "metadata": {
        "id": "mjBUAIKVdVrS"
      }
    },
    {
      "cell_type": "code",
      "source": [
        "pip install -U --index-url https://aiinfra.pkgs.visualstudio.com/PublicPackages/_packaging/Triton-Nightly/pypi/simple/ triton-nightly"
      ],
      "metadata": {
        "colab": {
          "base_uri": "https://localhost:8080/"
        },
        "id": "-9XoR3nYidWT",
        "outputId": "75c571c7-4ed3-453c-af88-2316fc879c43"
      },
      "execution_count": 1,
      "outputs": [
        {
          "output_type": "stream",
          "name": "stdout",
          "text": [
            "Looking in indexes: https://aiinfra.pkgs.visualstudio.com/PublicPackages/_packaging/Triton-Nightly/pypi/simple/\n",
            "Collecting triton-nightly\n",
            "  Downloading https://aiinfra.pkgs.visualstudio.com/2692857e-05ef-43b4-ba9c-ccf1c22c437c/_packaging/07c94329-d4c3-4ad4-9e6b-f904a60032ec/pypi/download/triton-nightly/3.post20240626041721/triton_nightly-3.0.0.post20240626041721-cp310-cp310-manylinux_2_27_x86_64.manylinux_2_28_x86_64.whl (139.1 MB)\n",
            "\u001b[2K     \u001b[90m━━━━━━━━━━━━━━━━━━━━━━━━━━━━━━━━━━━━━━━━\u001b[0m \u001b[32m139.1/139.1 MB\u001b[0m \u001b[31m11.7 MB/s\u001b[0m eta \u001b[36m0:00:00\u001b[0m\n",
            "\u001b[?25hRequirement already satisfied: filelock in /usr/local/lib/python3.10/dist-packages (from triton-nightly) (3.15.4)\n",
            "Installing collected packages: triton-nightly\n",
            "Successfully installed triton-nightly-3.0.0.post20240626041721\n"
          ]
        }
      ]
    },
    {
      "cell_type": "code",
      "source": [
        "import torch\n",
        "import triton\n",
        "import triton.language as tl\n",
        "from triton.runtime import driver\n",
        "\n",
        "def naive_softmax(x):\n",
        "    # Step 1: Shift to prevent overflow.\n",
        "    # MN reads, M writes\n",
        "    x_max = x.max(dim=1)[0]\n",
        "    # MN + M reads, MN writes\n",
        "    z = x - x_max[:, None]\n",
        "\n",
        "    # Step 2: Compute softmax.\n",
        "    # MN reads, MN writes\n",
        "    numerator = z.exp()\n",
        "    # MN reads, M writes\n",
        "    denominator = numerator.sum(dim=1)\n",
        "    # MN + M reads, MN writes\n",
        "    retval = numerator / denominator[:, None]\n",
        "    # 5MN + 2M reads, 3MN + 2M writes\n",
        "    return retval"
      ],
      "metadata": {
        "id": "Ow5NlPujdW4u"
      },
      "execution_count": 2,
      "outputs": []
    },
    {
      "cell_type": "markdown",
      "source": [
        "## Compute Kernel"
      ],
      "metadata": {
        "id": "tbSiEOLjdXPQ"
      }
    },
    {
      "cell_type": "code",
      "execution_count": null,
      "metadata": {
        "id": "xcy279a_dKD0"
      },
      "outputs": [],
      "source": [
        "@triton.jit\n",
        "def softmax_kernel(input_ptr, output_ptr, n_rows, n_cols,\n",
        "                   input_row_stride, output_row_stride,\n",
        "                   BLOCK_SIZE: tl.constexpr, num_stages: tl.constexpr):\n",
        "    # Step 1: Get kernel parameters.\n",
        "    row_index_start = tl.program_id(0)\n",
        "    row_index_end = n_rows\n",
        "    row_index_step = tl.num_programs(0)\n",
        "\n",
        "    for row_index in tl.range(row_index_start, row_index_end, row_index_step,\n",
        "                              num_stages=num_stages):\n",
        "        # Step 2: Load data.\n",
        "        input_start_ptr = input_ptr + row_index * input_row_stride\n",
        "        input_offsets = tl.arange(0, BLOCK_SIZE)\n",
        "        input_ptrs = input_start_ptr + input_offsets\n",
        "        input_mask = input_offsets < n_cols\n",
        "        input_row = tl.load(input_ptrs, mask=input_mask, other=-float(\"inf\"))\n",
        "\n",
        "        # Step 3: Compute data.\n",
        "        input_row_ = input_row - tl.max(input_row, axis=0)\n",
        "        numerator = tl.exp(input_row_)\n",
        "        denominator = tl.sum(numerator, axis=0)\n",
        "        output_row = numerator / denominator\n",
        "\n",
        "        # Step 4: Store data.\n",
        "        output_start_ptr = output_ptr + row_index * output_row_stride\n",
        "        output_offsets = tl.arange(0, BLOCK_SIZE)\n",
        "        output_ptrs = output_start_ptr + output_offsets\n",
        "        output_mask = output_offsets < n_cols\n",
        "        tl.store(output_ptrs, output_row, mask=output_mask)"
      ]
    },
    {
      "cell_type": "code",
      "source": [
        "device = torch.cuda.current_device()\n",
        "properties = driver.active.utils.get_device_properties(device)\n",
        "MAX_SHARED_MEM = properties[\"max_shared_mem\"]\n",
        "WARP_SIZE = properties[\"warpSize\"]\n",
        "MAX_NUM_REGS = properties[\"max_num_regs\"]\n",
        "SM_COUNT = properties[\"multiprocessor_count\"]\n",
        "target = triton.runtime.driver.active.get_current_target()\n",
        "\n",
        "def softmax(x):\n",
        "    # Step 1: Init output.\n",
        "    y = torch.empty_like(x)\n",
        "\n",
        "    # Step 2: Set kernel parameters.\n",
        "    n_rows, n_cols = x.shape\n",
        "\n",
        "    BLOCK_SIZE = triton.next_power_of_2(n_cols)\n",
        "    num_stages = 4 if MAX_SHARED_MEM > 200000 else 2\n",
        "    num_warps = 8\n",
        "\n",
        "    kernels = {}\n",
        "\n",
        "    # Step 3: Launch kernel function.\n",
        "    kernel, n_programs = kernels.get(BLOCK_SIZE, (None, 0))\n",
        "\n",
        "    if kernel is None:\n",
        "        kernel = softmax_kernel.warmup(x, y, n_rows, n_cols,\n",
        "                                       x.stride(0), y.stride(0),\n",
        "                                       BLOCK_SIZE=BLOCK_SIZE,\n",
        "                                       num_stages=num_stages,\n",
        "                                       num_warps=num_warps, grid=(1, ))\n",
        "        kernel._init_handles()\n",
        "\n",
        "        occupancy = min(MAX_NUM_REGS // (num_warps * WARP_SIZE * kernel.n_regs),\n",
        "                        MAX_SHARED_MEM // kernel.metadata.shared)\n",
        "        n_programs = SM_COUNT * occupancy\n",
        "\n",
        "        kernels[BLOCK_SIZE] = (kernel, n_programs)\n",
        "\n",
        "    n_programs = min(n_programs, n_rows)\n",
        "\n",
        "    kernel[(n_programs, 1, 1)](x, y, n_rows, n_cols, x.stride(0), y.stride(0))\n",
        "\n",
        "    # Step 4: Return output.\n",
        "    return y"
      ],
      "metadata": {
        "id": "1YB9QA4QjML1"
      },
      "execution_count": null,
      "outputs": []
    },
    {
      "cell_type": "markdown",
      "source": [
        "## Unit Test"
      ],
      "metadata": {
        "id": "geNeN94wdYl1"
      }
    },
    {
      "cell_type": "code",
      "source": [
        "torch.manual_seed(0)\n",
        "x = torch.randn((1823, 781), dtype=torch.float32, device=\"cuda\")\n",
        "output_triton = softmax(x)\n",
        "output_torch = torch.softmax(x, axis=1)\n",
        "assert torch.allclose(output_triton, output_torch), (output_triton, output_torch)\n",
        "print(f\"Max diff is {torch.max(torch.abs(output_triton - output_torch))}.\")"
      ],
      "metadata": {
        "colab": {
          "base_uri": "https://localhost:8080/"
        },
        "id": "KguzEsz4daY9",
        "outputId": "9918ad9c-ac05-45aa-ee10-0622fb7051a4"
      },
      "execution_count": null,
      "outputs": [
        {
          "output_type": "stream",
          "name": "stdout",
          "text": [
            "Max diff is 7.450580596923828e-09.\n"
          ]
        }
      ]
    },
    {
      "cell_type": "markdown",
      "source": [
        "## Benchmark"
      ],
      "metadata": {
        "id": "MrvGR7BMdamG"
      }
    },
    {
      "cell_type": "code",
      "source": [],
      "metadata": {
        "id": "B7Qel-MMda5o"
      },
      "execution_count": null,
      "outputs": []
    },
    {
      "cell_type": "markdown",
      "source": [
        "# Practice"
      ],
      "metadata": {
        "id": "k1Z2b1P25k1R"
      }
    },
    {
      "cell_type": "markdown",
      "source": [
        "## Motivations"
      ],
      "metadata": {
        "id": "xvzg7xlq5mp6"
      }
    },
    {
      "cell_type": "code",
      "source": [
        "import torch\n",
        "import triton\n",
        "import triton.language as tl\n",
        "from triton.runtime import driver\n",
        "\n",
        "def prac_naive_softmax(x):\n",
        "    # Step 1: Shift to prevent overflow.\n",
        "    x_shift = x - x.max(dim=1)[0][:, None]\n",
        "\n",
        "    # Step 2: Compute softmax.\n",
        "    numerator = x.exp()\n",
        "    denominator = numerator.sum(dim=1)\n",
        "    retval = numerator / denominator[:, None]\n",
        "    return retval"
      ],
      "metadata": {
        "id": "QBAnBn6i5nE2"
      },
      "execution_count": 2,
      "outputs": []
    },
    {
      "cell_type": "markdown",
      "source": [
        "## Compute Kernel"
      ],
      "metadata": {
        "id": "_PRTTyUL5phB"
      }
    },
    {
      "cell_type": "code",
      "source": [
        "@triton.jit\n",
        "def prac_softmax_kernel(input_ptr, output_ptr, num_rows, num_cols,\n",
        "                        input_row_stride, output_row_stride,\n",
        "                        BLOCK_SIZE: tl.constexpr, num_stages: tl.constexpr):\n",
        "    # Step 1: Get the thread parameter.\n",
        "    row_index_start = tl.program_id(0)\n",
        "    row_index_end = num_rows\n",
        "    row_index_step = tl.num_programs(0)\n",
        "\n",
        "    for row_index in tl.range(row_index_start, row_index_end, row_index_step,\n",
        "                              num_stages=num_stages):\n",
        "        # Step 2: Load data.\n",
        "        input_ptr_start = input_ptr + row_index * input_row_stride\n",
        "        input_offsets = tl.arange(0, BLOCK_SIZE)\n",
        "        input_ptrs = input_ptr_start + input_offsets\n",
        "        input_mask = input_offsets < num_cols\n",
        "        input_row = tl.load(input_ptrs, mask=input_mask, other=float(\"-inf\"))\n",
        "\n",
        "        # Step 3: Compute data.\n",
        "        input_row_shift = input_row - tl.max(input_row, axis=0)\n",
        "        numerator = tl.exp(input_row_shift)\n",
        "        denominator = tl.sum(numerator, axis=0)\n",
        "        output_row = numerator / denominator\n",
        "\n",
        "        # Step 4: Store data.\n",
        "        output_ptr_start = output_ptr + row_index * output_row_stride\n",
        "        output_offsets = tl.arange(0, BLOCK_SIZE)\n",
        "        output_ptrs = output_ptr_start + output_offsets\n",
        "        output_mask = output_offsets < num_cols\n",
        "        tl.store(output_ptrs, output_row, mask=output_mask)"
      ],
      "metadata": {
        "id": "DcTH8e9f5pw-"
      },
      "execution_count": 3,
      "outputs": []
    },
    {
      "cell_type": "code",
      "source": [
        "prac_device = torch.cuda.current_device()\n",
        "prac_properties = driver.active.utils.get_device_properties(prac_device)\n",
        "MAX_SHARED_MEM = prac_properties[\"max_shared_mem\"]\n",
        "MAX_NUM_REGS = prac_properties[\"max_num_regs\"]\n",
        "WARP_SIZE = prac_properties[\"warpSize\"]\n",
        "SM_COUNT = prac_properties[\"multiprocessor_count\"]\n",
        "\n",
        "kernels = {}\n",
        "\n",
        "def prac_softmax(x):\n",
        "    # Step 1: Init output.\n",
        "    y = torch.empty_like(x)\n",
        "\n",
        "    # Step 2: Set kernel parameters.\n",
        "    num_rows, num_cols = x.shape\n",
        "    BLOCK_SIZE = triton.next_power_of_2(num_cols)\n",
        "    num_stages = 4 if MAX_SHARED_MEM > 200000 else 2\n",
        "    num_warps = 8\n",
        "\n",
        "    # Step 3: Launch kernel function.\n",
        "    kernel, num_programs = kernels.get(BLOCK_SIZE, (None, 0))\n",
        "\n",
        "    if kernel is None:\n",
        "        kernel = prac_softmax_kernel.warmup(x, y, num_rows, num_cols,\n",
        "                                            x.stride(0), y.stride(0),\n",
        "                                            BLOCK_SIZE=BLOCK_SIZE,\n",
        "                                            num_stages=num_stages,\n",
        "                                            num_warps=num_warps, grid=(1, ))\n",
        "        kernel._init_handles()\n",
        "        occupancy = min(MAX_NUM_REGS // (num_warps * WARP_SIZE * kernel.n_regs),\n",
        "                        MAX_SHARED_MEM // kernel.metadata.shared)\n",
        "        num_programs = SM_COUNT * occupancy\n",
        "        kernels[BLOCK_SIZE] = (kernel, num_programs)\n",
        "\n",
        "    num_programs = min(num_programs, num_rows)\n",
        "\n",
        "    kernel[(num_programs, 1, 1)](x, y, num_rows, num_cols,\n",
        "                                 x.stride(0), y.stride(0))\n",
        "\n",
        "    # Step 4: Return output.\n",
        "    return y"
      ],
      "metadata": {
        "id": "dTjRXioY99YH"
      },
      "execution_count": 4,
      "outputs": []
    },
    {
      "cell_type": "markdown",
      "source": [
        "## Unit Test"
      ],
      "metadata": {
        "id": "B01N06A75rbX"
      }
    },
    {
      "cell_type": "code",
      "source": [
        "torch.manual_seed(0)\n",
        "x = torch.randn((1823, 781), dtype=torch.float32, device=\"cuda\")\n",
        "output_triton = prac_softmax(x)\n",
        "output_torch = torch.softmax(x, axis=1)\n",
        "assert torch.allclose(output_triton, output_torch), (output_triton, output_torch)\n",
        "print(f\"max diff = {torch.max(torch.abs(output_triton - output_torch))}\")"
      ],
      "metadata": {
        "colab": {
          "base_uri": "https://localhost:8080/"
        },
        "id": "wGB8pxEr5rxC",
        "outputId": "6c07271e-e404-49db-80aa-89db798df001"
      },
      "execution_count": 5,
      "outputs": [
        {
          "output_type": "stream",
          "name": "stdout",
          "text": [
            "max diff = 7.450580596923828e-09\n"
          ]
        }
      ]
    },
    {
      "cell_type": "markdown",
      "source": [
        "## Benchmark"
      ],
      "metadata": {
        "id": "FBfmXFQf5uQe"
      }
    },
    {
      "cell_type": "code",
      "source": [
        "@triton.testing.perf_report(\n",
        "    triton.testing.Benchmark(\n",
        "        x_names=[\"N\"], x_vals=[128 * i for i in range(2, 100)],\n",
        "        line_arg=\"provider\", line_vals = [\"triton\", \"torch\"],\n",
        "        line_names=[\"Triton\", \"Torch\"], styles=[(\"blue\", \"-\"), (\"green\", \"-\")],\n",
        "        ylabel=\"GB/s\", plot_name=\"Fused Softmax Performance\", args={\"M\": 4096},\n",
        "    )\n",
        ")\n",
        "def benchmark(M, N, provider):\n",
        "    # Step 1: Init input.\n",
        "    x = torch.randn((M, N), dtype=torch.float32, device=\"cuda\")\n",
        "\n",
        "    # Step 2: Set benchmark parameters.\n",
        "    quantiles = [0.5, 0.2, 0.8]\n",
        "\n",
        "    # Step 3: Launch benchmark function.\n",
        "    if provider == \"triton\":\n",
        "        ms, min_ms, max_ms = triton.testing.do_bench(lambda: prac_softmax(x),\n",
        "                                                     quantiles=quantiles)\n",
        "    if provider == \"torch\":\n",
        "        ms, min_ms, max_ms = triton.testing.do_bench(lambda: torch.softmax(x, axis=1),\n",
        "                                                     quantiles=quantiles)\n",
        "\n",
        "    # Step 4: Compute throughput.\n",
        "    gbps = lambda ms: 2 * x.numel() * x.element_size() * 1e-9 / (ms * 1e-3)\n",
        "    return gbps(ms), gbps(min_ms), gbps(max_ms)"
      ],
      "metadata": {
        "id": "1a7tJoHw5ulX"
      },
      "execution_count": 6,
      "outputs": []
    },
    {
      "cell_type": "code",
      "source": [
        "benchmark.run(show_plots=True, print_data=True)"
      ],
      "metadata": {
        "colab": {
          "base_uri": "https://localhost:8080/",
          "height": 1000
        },
        "id": "0iiMsdq6yrtw",
        "outputId": "4af6d811-54ca-406c-e24f-e02e49ad7977"
      },
      "execution_count": 7,
      "outputs": [
        {
          "output_type": "display_data",
          "data": {
            "text/plain": [
              "<Figure size 640x480 with 1 Axes>"
            ],
            "image/png": "[encoded data removed]"
          },
          "metadata": {}
        },
        {
          "output_type": "stream",
          "name": "stdout",
          "text": [
            "Fused Softmax Performance:\n",
            "          N       Triton        Torch\n",
            "0     256.0   356.173905   546.133347\n",
            "1     384.0   585.142862   768.000002\n",
            "2     512.0   682.666643   862.315828\n",
            "3     640.0   731.428561   930.909084\n",
            "4     768.0   792.774204   983.040025\n",
            "5     896.0   868.848478  1023.999986\n",
            "6    1024.0   910.222190  1057.032272\n",
            "7    1152.0  1023.999964   737.280019\n",
            "8    1280.0  1024.000026   787.692317\n",
            "9    1408.0  1047.813953   750.933352\n",
            "10   1536.0  1045.787204   792.774204\n",
            "11   1664.0  1086.693913   783.058810\n",
            "12   1792.0  1102.769243   819.199978\n",
            "13   1920.0  1117.090900   819.199961\n",
            "14   2048.0  1129.931006   992.969689\n",
            "15   2176.0  1123.096789   800.367813\n",
            "16   2304.0  1134.276920   837.818175\n",
            "17   2432.0  1144.470568   855.208775\n",
            "18   2560.0  1153.802781   880.860193\n",
            "19   2688.0  1162.378328   811.471702\n",
            "20   2816.0  1155.282091   826.715592\n",
            "21   2944.0  1163.061753   848.720712\n",
            "22   3072.0  1170.285724   869.946888\n",
            "23   3200.0  1177.011490   832.520290\n",
            "24   3328.0  1183.288871   851.967960\n",
            "25   3456.0  1189.161260   877.714293\n",
            "26   3584.0  1182.350559   896.000002\n",
            "27   3712.0  1199.838419   867.036525\n",
            "28   3840.0  1193.009726   890.434763\n",
            "29   3968.0  1197.886798   913.496428\n",
            "30   4096.0  1213.629628  1083.239694\n",
            "31   4224.0  1175.373887   979.478239\n",
            "32   4352.0  1180.203354  1009.159398\n",
            "33   4480.0  1184.793415  1023.999973\n",
            "34   4608.0  1189.161306  1045.787258\n",
            "35   4736.0  1184.000003  1023.999955\n",
            "36   4864.0  1206.573711  1051.675630\n",
            "37   4992.0  1201.082760  1072.107386\n",
            "38   5120.0  1204.705861  1085.033111\n",
            "39   5248.0  1208.172696  1056.201239\n",
            "40   5376.0  1194.666624  1068.521715\n",
            "41   5504.0  1214.675878  1073.951237\n",
            "42   5632.0  1226.013615  1066.414162\n",
            "43   5760.0  1220.662250  1041.355965\n",
            "44   5888.0  1215.587085  1046.755540\n",
            "45   6016.0  1226.191065  1046.260846\n",
            "46   6144.0  1228.800031  1177.293374\n",
            "47   6272.0  1231.312851  1146.880041\n",
            "48   6400.0  1233.734955  1150.561784\n",
            "49   6528.0  1243.428581  1154.121574\n",
            "50   6656.0  1238.325581  1163.890733\n",
            "51   6784.0  1240.502901  1136.586392\n",
            "52   6912.0  1235.664838  1146.031089\n",
            "53   7040.0  1237.802175  1143.553292\n",
            "54   7168.0  1239.870289  1152.643205\n",
            "55   7296.0  1241.872305  1111.771437\n",
            "56   7424.0  1250.357855  1115.342688\n",
            "57   7552.0  1239.302561  1118.814813\n",
            "58   7680.0  1250.687039  1122.191811\n",
            "59   7808.0  1249.280032  1095.859628\n",
            "60   7936.0  1250.995054  1094.620662\n",
            "61   8064.0  1252.660213  1093.423696\n",
            "62   8192.0  1254.277480  1213.629628\n",
            "63   8320.0  1215.707795  1188.571412\n",
            "64   8448.0  1212.269083  1180.506563\n",
            "65   8576.0  1219.697799  1188.017325\n",
            "66   8704.0  1210.991277  1180.203354\n",
            "67   8832.0  1212.978547  1158.295104\n",
            "68   8960.0  1230.557946  1160.809768\n",
            "69   9088.0  1227.071729  1163.263945\n",
            "70   9216.0  1228.800031  1161.070806\n",
            "71   9344.0  1230.485585  1128.332034\n",
            "72   9472.0  1222.193565  1135.220992\n",
            "73   9600.0  1228.799942  1129.411745\n",
            "74   9728.0  1235.301597  1127.884033\n",
            "75   9856.0  1234.410980  1102.769250\n",
            "76   9984.0  1224.091915  1101.682773\n",
            "77  10112.0  1239.785401  1100.625859\n",
            "78  10240.0  1245.931585   986.987964\n",
            "79  10368.0  1247.278251   981.585762\n",
            "80  10496.0  1239.380087   993.704105\n",
            "81  10624.0  1236.247279   982.566513\n",
            "82  10752.0  1220.085134   945.230752\n",
            "83  10880.0  1234.609957   997.593097\n",
            "84  11008.0  1240.337990   959.825612\n",
            "85  11136.0  1245.986036   940.242733\n",
            "86  11264.0  1255.916365   921.861872\n",
            "87  11392.0  1244.177517   937.131121\n",
            "88  11520.0  1258.157039   907.980281\n",
            "89  11648.0  1250.791950   898.159063\n",
            "90  11776.0  1260.307664   882.510556\n",
            "91  11904.0  1257.188086   906.971436\n",
            "92  12032.0  1246.032381   873.070273\n",
            "93  12160.0  1251.189668   858.984574\n",
            "94  12288.0  1256.281163   840.205105\n",
            "95  12416.0  1265.324823   836.446302\n",
            "96  12544.0  1266.271301   829.355390\n",
            "97  12672.0  1271.172360   822.523279\n"
          ]
        }
      ]
    },
    {
      "cell_type": "code",
      "source": [],
      "metadata": {
        "id": "98awWWmRy0et"
      },
      "execution_count": null,
      "outputs": []
    }
  ]
}