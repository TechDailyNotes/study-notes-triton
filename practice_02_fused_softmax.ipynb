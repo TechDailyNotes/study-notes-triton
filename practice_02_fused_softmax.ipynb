{
  "nbformat": 4,
  "nbformat_minor": 0,
  "metadata": {
    "colab": {
      "provenance": [],
      "machine_shape": "hm",
      "gpuType": "T4",
      "authorship_tag": "ABX9TyNCLu2gF7UYIIpipkrAE6zZ",
      "include_colab_link": true
    },
    "kernelspec": {
      "name": "python3",
      "display_name": "Python 3"
    },
    "language_info": {
      "name": "python"
    },
    "accelerator": "GPU"
  },
  "cells": [
    {
      "cell_type": "markdown",
      "metadata": {
        "id": "view-in-github",
        "colab_type": "text"
      },
      "source": [
        "<a href=\"https://colab.research.google.com/github/TechDailyNotes/study-notes-triton/blob/main/practice_02_fused_softmax.ipynb\" target=\"_parent\"><img src=\"https://colab.research.google.com/assets/colab-badge.svg\" alt=\"Open In Colab\"/></a>"
      ]
    },
    {
      "cell_type": "code",
      "execution_count": 1,
      "metadata": {
        "colab": {
          "base_uri": "https://localhost:8080/"
        },
        "id": "R00KYXzI1Lx0",
        "outputId": "588ecc44-78e5-4e6e-8b0a-49a59763610f"
      },
      "outputs": [
        {
          "output_type": "stream",
          "name": "stdout",
          "text": [
            "Looking in indexes: https://aiinfra.pkgs.visualstudio.com/PublicPackages/_packaging/Triton-Nightly/pypi/simple/\n",
            "Collecting triton-nightly\n",
            "  Downloading https://aiinfra.pkgs.visualstudio.com/2692857e-05ef-43b4-ba9c-ccf1c22c437c/_packaging/07c94329-d4c3-4ad4-9e6b-f904a60032ec/pypi/download/triton-nightly/3.post20240626041721/triton_nightly-3.0.0.post20240626041721-cp310-cp310-manylinux_2_27_x86_64.manylinux_2_28_x86_64.whl (139.1 MB)\n",
            "\u001b[2K     \u001b[90m━━━━━━━━━━━━━━━━━━━━━━━━━━━━━━━━━━━━━━━━\u001b[0m \u001b[32m139.1/139.1 MB\u001b[0m \u001b[31m10.7 MB/s\u001b[0m eta \u001b[36m0:00:00\u001b[0m\n",
            "\u001b[?25hRequirement already satisfied: filelock in /usr/local/lib/python3.10/dist-packages (from triton-nightly) (3.15.4)\n",
            "Installing collected packages: triton-nightly\n",
            "Successfully installed triton-nightly-3.0.0.post20240626041721\n"
          ]
        }
      ],
      "source": [
        "pip install -U --index-url https://aiinfra.pkgs.visualstudio.com/PublicPackages/_packaging/Triton-Nightly/pypi/simple/ triton-nightly"
      ]
    },
    {
      "cell_type": "code",
      "source": [
        "import torch\n",
        "import triton\n",
        "import triton.language as tl\n",
        "from triton.runtime import driver\n",
        "\n",
        "def naive_softmax(x):\n",
        "    # Step 1: Shift x to prevent overflow.\n",
        "    # MN reads, M writes.\n",
        "    x_max = x.max(dim=1)[0]\n",
        "    # MN + M reads, MN writes.\n",
        "    x_shift = x - x_max[:, None]\n",
        "\n",
        "    # Step 2: Compute softmax.\n",
        "    # MN reads, MN writes.\n",
        "    numerator = x_shift.exp()\n",
        "    # MN reads, M writes.\n",
        "    denominator = numerator.sum(dim=1)\n",
        "    # MN + M reads, MN writes.\n",
        "    retval = numerator / denominator[:, None]\n",
        "    # In total, 5MN + 2M reads, 3MN + 2M writes.\n",
        "    return retval"
      ],
      "metadata": {
        "id": "BPWAB6Re1fvb"
      },
      "execution_count": 2,
      "outputs": []
    },
    {
      "cell_type": "code",
      "source": [
        "@triton.jit\n",
        "def softmax_kernel(\n",
        "    input_ptr, output_ptr, num_rows, num_cols, row_stride,\n",
        "    BLOCK_SIZE: tl.constexpr, num_stages: tl.constexpr,\n",
        "):\n",
        "    # Step 1: Get the thread parameters.\n",
        "    row_index_start = tl.program_id(0)\n",
        "    row_index_end = num_rows\n",
        "    row_index_step = tl.num_programs(0)\n",
        "\n",
        "    for row_index in tl.range(\n",
        "        row_index_start, row_index_end, row_index_step, num_stages=num_stages,\n",
        "    ):\n",
        "        # Step 2: Load data.\n",
        "        input_ptr_start = input_ptr + row_index * row_stride\n",
        "        input_offsets = tl.arange(0, BLOCK_SIZE)\n",
        "        input_ptrs = input_ptr_start + input_offsets\n",
        "        input_mask = input_offsets < num_cols\n",
        "        input_row = tl.load(input_ptrs, mask=input_mask, other=float(\"-inf\"))\n",
        "\n",
        "        # Step 3: Compute data.\n",
        "        input_row_shift = input_row - tl.max(input_row, axis=0)\n",
        "        numerator = tl.exp(input_row_shift)\n",
        "        denominator = tl.sum(numerator, axis=0)\n",
        "        output_row = numerator / denominator\n",
        "\n",
        "        # Step 4: Store data.\n",
        "        output_ptr_start = output_ptr + row_index * row_stride\n",
        "        output_offsets = tl.arange(0, BLOCK_SIZE)\n",
        "        output_ptrs = output_ptr_start + output_offsets\n",
        "        output_mask = output_offsets < num_cols\n",
        "        tl.store(output_ptrs, output_row, mask=output_mask)"
      ],
      "metadata": {
        "id": "z4mL-FkF2uhl"
      },
      "execution_count": 3,
      "outputs": []
    },
    {
      "cell_type": "code",
      "source": [
        "device = torch.cuda.current_device()\n",
        "properties = driver.active.utils.get_device_properties(device)\n",
        "target = driver.active.get_current_target()\n",
        "\n",
        "MAX_SHARED_MEM = properties[\"max_shared_mem\"]\n",
        "MAX_NUM_REGS = properties[\"max_num_regs\"]\n",
        "WARP_SIZE = properties[\"warpSize\"]\n",
        "SM_COUNT = properties[\"multiprocessor_count\"]\n",
        "\n",
        "kernels = {}\n",
        "\n",
        "def softmax(x):\n",
        "    # Step 1: Init output.\n",
        "    y = torch.empty_like(x)\n",
        "\n",
        "    # Step 2: Set kernel parameters.\n",
        "    num_rows, num_cols = x.shape\n",
        "    row_stride = x.stride(0)\n",
        "\n",
        "    BLOCK_SIZE = triton.next_power_of_2(num_cols)\n",
        "    num_stages = 4 if MAX_SHARED_MEM > 200000 else 2\n",
        "    num_warps = 8\n",
        "\n",
        "    # Step 3: Launch kernel function.\n",
        "    if BLOCK_SIZE not in kernels:\n",
        "        kernel = softmax_kernel.warmup(\n",
        "            x, y, num_rows, num_cols, row_stride, BLOCK_SIZE=BLOCK_SIZE,\n",
        "            num_stages=num_stages, num_warps=num_warps, grid=(1, ),\n",
        "        )\n",
        "        kernel._init_handles()\n",
        "        occupancy = min(\n",
        "            MAX_NUM_REGS // (num_warps * WARP_SIZE * kernel.n_regs),\n",
        "            MAX_SHARED_MEM // kernel.metadata.shared,\n",
        "        )\n",
        "        num_programs = SM_COUNT * occupancy\n",
        "\n",
        "        kernels[BLOCK_SIZE] = (kernel, num_programs)\n",
        "\n",
        "    kernel, num_programs = kernels[BLOCK_SIZE]\n",
        "    kernel[(num_programs, 1, 1)](x, y, num_rows, num_cols, row_stride)\n",
        "\n",
        "    return y"
      ],
      "metadata": {
        "id": "QGGdGxlv6jOX"
      },
      "execution_count": 4,
      "outputs": []
    },
    {
      "cell_type": "code",
      "source": [
        "torch.manual_seed(0)\n",
        "\n",
        "x = torch.randn((1823, 781), dtype=torch.float32, device=\"cuda\")\n",
        "output_triton = softmax(x)\n",
        "output_torch = torch.softmax(x, axis=1)\n",
        "\n",
        "print(f\"max diff = {torch.max(torch.abs(output_triton - output_torch))}\")\n",
        "assert \\\n",
        "    torch.allclose(output_triton, output_torch), \\\n",
        "    (f\"output_triton = {output_triton}\", f\"output_torch = {output_torch}\")\n",
        "print(\"success\")\n"
      ],
      "metadata": {
        "colab": {
          "base_uri": "https://localhost:8080/"
        },
        "id": "LUxYqtkb9OFV",
        "outputId": "78424d37-ba27-4882-cbe9-e85cc0bde593"
      },
      "execution_count": 5,
      "outputs": [
        {
          "output_type": "stream",
          "name": "stdout",
          "text": [
            "max diff = 7.450580596923828e-09\n",
            "success\n"
          ]
        }
      ]
    },
    {
      "cell_type": "code",
      "source": [
        "@triton.testing.perf_report(triton.testing.Benchmark(\n",
        "    x_names=[\"N\"], x_vals=[128 * i for i in range(10, 100)], line_arg=\"provider\",\n",
        "    line_vals=[\"triton\", \"torch\"], line_names=[\"Triton\", \"Torch\"],\n",
        "    ylabel=\"GB/s\", styles=[(\"blue\", \"-\"), (\"green\", \"-\")],\n",
        "    plot_name=\"fused softmax performance\", args={\"M\": 4096},\n",
        "))\n",
        "def benchmark(M, N, provider):\n",
        "    # Step 1: Init input.\n",
        "    x = torch.randn((M, N), dtype=torch.float32, device=\"cuda\")\n",
        "\n",
        "    # Step 2: Set benchmark parameters.\n",
        "    quantiles = [0.5, 0.2, 0.8]\n",
        "\n",
        "    # Step 3: Launch benchmark function.\n",
        "    if provider == \"triton\":\n",
        "        ms, min_ms, max_ms = triton.testing.do_bench(\n",
        "            lambda: softmax(x), quantiles=quantiles,\n",
        "        )\n",
        "    if provider == \"torch\":\n",
        "        ms, min_ms, max_ms = triton.testing.do_bench(\n",
        "            lambda: torch.softmax(x, axis=1), quantiles=quantiles,\n",
        "        )\n",
        "\n",
        "    # Step 4: Compute throughput.\n",
        "    gbps = lambda ms: x.numel() * x.element_size() * 2 / ms * 1e-6\n",
        "    return gbps(ms), gbps(min_ms), gbps(max_ms)"
      ],
      "metadata": {
        "id": "vWjztRyK9_t0"
      },
      "execution_count": 8,
      "outputs": []
    },
    {
      "cell_type": "code",
      "source": [
        "benchmark.run(show_plots=True, print_data=True)"
      ],
      "metadata": {
        "colab": {
          "base_uri": "https://localhost:8080/",
          "height": 1000
        },
        "id": "Mql59h4TBHQv",
        "outputId": "8df6479d-7b03-49ff-bdef-7855cdf84346"
      },
      "execution_count": 9,
      "outputs": [
        {
          "output_type": "display_data",
          "data": {
            "text/plain": [
              "<Figure size 640x480 with 1 Axes>"
            ],
            "image/png": "[encoded data removed]"
          },
          "metadata": {}
        },
        {
          "output_type": "stream",
          "name": "stdout",
          "text": [
            "fused softmax performance:\n",
            "          N      Triton       Torch\n",
            "0    1280.0  231.065668  145.135650\n",
            "1    1408.0  227.555562  201.227080\n",
            "2    1536.0  225.467889  223.497551\n",
            "3    1664.0  225.552455  214.980563\n",
            "4    1792.0  225.763768  226.432372\n",
            "5    1920.0  225.558438  220.796228\n",
            "6    2048.0  225.986210  239.182490\n",
            "7    2176.0  223.975887  220.878658\n",
            "8    2304.0  224.780491  218.392667\n",
            "9    2432.0  224.924864  211.478256\n",
            "10   2560.0  225.519614  218.344167\n",
            "11   2688.0  225.154352  174.773763\n",
            "12   2816.0  225.280006  181.677422\n",
            "13   2944.0  224.923967  184.919860\n",
            "14   3072.0  225.492138  187.212282\n",
            "15   3200.0  225.550664  174.316424\n",
            "16   3328.0  226.091150  180.673950\n",
            "17   3456.0  226.210105  199.737213\n",
            "18   3584.0  226.642121  209.907116\n",
            "19   3712.0  225.825100  208.753494\n",
            "20   3840.0  226.709320  214.438565\n",
            "21   3968.0  225.841759  207.165058\n",
            "22   4096.0  226.217778  240.941172\n",
            "23   4224.0  224.519909  234.985383\n",
            "24   4352.0  225.203932  234.451185\n",
            "25   4480.0  224.339582  231.266601\n",
            "26   4608.0  225.327917  235.218086\n",
            "27   4736.0  224.943258  219.640575\n",
            "28   4864.0  224.935006  221.720801\n",
            "29   4992.0  223.985978  220.260602\n",
            "30   5120.0  224.953552  225.801278\n",
            "31   5248.0  224.898606  215.397497\n",
            "32   5376.0  225.810082  219.586115\n",
            "33   5504.0  224.402609  219.679453\n",
            "34   5632.0  225.275597  217.080130\n",
            "35   5760.0  225.209625  214.966107\n",
            "36   5888.0  225.698578  212.247404\n",
            "37   6016.0  226.201960  207.763116\n",
            "38   6144.0  226.907199  199.595698\n",
            "39   6272.0  226.528218  195.498834\n",
            "40   6400.0  227.405528  191.298511\n",
            "41   6528.0  226.937528  187.245710\n",
            "42   6656.0  227.380945  184.211780\n",
            "43   6784.0  226.923728  182.118423\n",
            "44   6912.0  227.559219  178.324753\n",
            "45   7040.0  227.494516  175.547848\n",
            "46   7168.0  227.259654  173.279472\n",
            "47   7296.0  227.320141  172.431321\n",
            "48   7424.0  227.555548  169.098825\n",
            "49   7552.0  227.481907  167.332000\n",
            "50   7680.0  227.977749  164.278077\n",
            "51   7808.0  227.655971  164.422892\n",
            "52   7936.0  228.772711  161.369041\n",
            "53   8064.0  227.957596  160.468258\n",
            "54   8192.0  228.678348  158.490929\n",
            "55   8320.0  225.677923  158.669505\n",
            "56   8448.0  227.015122  156.342666\n",
            "57   8576.0  226.411530  154.123869\n",
            "58   8704.0  227.120650  153.882869\n",
            "59   8832.0  226.059646  151.424305\n",
            "60   8960.0  226.846669  149.781902\n",
            "61   9088.0  226.032870  147.903886\n",
            "62   9216.0  226.118867  147.047031\n",
            "63   9344.0  225.156629  146.854875\n",
            "64   9472.0  226.837104  145.857840\n",
            "65   9600.0  225.825271  144.311109\n",
            "66   9728.0  226.866300  143.388300\n",
            "67   9856.0  225.667884  144.955753\n",
            "68   9984.0  226.909089  143.308322\n",
            "69  10112.0  225.400822  141.674260\n",
            "70  10240.0  226.281265  139.795227\n",
            "71  10368.0  224.756688  142.159576\n",
            "72  10496.0  226.266892  141.170876\n",
            "73  10624.0  225.517752  139.026676\n",
            "74  10752.0  226.455673  138.263338\n",
            "75  10880.0  226.445536  139.249206\n",
            "76  11008.0  227.261929  138.013601\n",
            "77  11136.0  226.095991  136.030060\n",
            "78  11264.0  227.387342  135.317588\n",
            "79  11392.0  226.143913  137.771737\n",
            "80  11520.0  227.060616  135.629140\n",
            "81  11648.0  226.312087  134.576918\n",
            "82  11776.0  227.602799  134.171808\n",
            "83  11904.0  226.624828  137.419917\n",
            "84  12032.0  227.549251  135.476426\n",
            "85  12160.0  226.801200  133.867724\n",
            "86  12288.0  227.545269  134.335228\n",
            "87  12416.0  226.679216  136.182349\n",
            "88  12544.0  227.813844  134.881717\n",
            "89  12672.0  227.045915  132.344645\n"
          ]
        }
      ]
    },
    {
      "cell_type": "code",
      "source": [],
      "metadata": {
        "id": "Rgzj8XrQBiK6"
      },
      "execution_count": 7,
      "outputs": []
    }
  ]
}